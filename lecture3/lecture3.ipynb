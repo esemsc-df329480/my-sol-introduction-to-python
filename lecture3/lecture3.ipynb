{
 "cells": [
  {
   "cell_type": "code",
   "execution_count": null,
   "metadata": {
    "editable": true,
    "execution": {
     "iopub.execute_input": "2024-08-27T14:31:57.273408Z",
     "iopub.status.busy": "2024-08-27T14:31:57.273022Z",
     "iopub.status.idle": "2024-08-27T14:31:57.733148Z",
     "shell.execute_reply": "2024-08-27T14:31:57.732572Z"
    },
    "slideshow": {
     "slide_type": ""
    },
    "tags": []
   },
   "outputs": [],
   "source": [
    "import pybryt\n",
    "from lecture import pybryt_reference"
   ]
  },
  {
   "cell_type": "markdown",
   "metadata": {
    "editable": true,
    "slideshow": {
     "slide_type": "slide"
    },
    "tags": []
   },
   "source": [
    "# Introduction to Python\n",
    "\n",
    "# Lecture 3"
   ]
  },
  {
   "cell_type": "markdown",
   "metadata": {
    "editable": true,
    "slideshow": {
     "slide_type": "slide"
    },
    "tags": []
   },
   "source": [
    "## Learning objectives\n",
    "\n",
    "At the end of this lecture, you will be able to:\n",
    "\n",
    "* Plot 2D graphs.\n",
    "* Read data from files.\n",
    "* Catch run-time errors and handle them gracefully rather than letting the program simply fail."
   ]
  },
  {
   "cell_type": "markdown",
   "metadata": {
    "editable": true,
    "slideshow": {
     "slide_type": ""
    },
    "tags": []
   },
   "source": [
    "## Plotting curves - the basics\n",
    "\n",
    "If you have programmed in Python before, or when you start looking at coding examples online, you will notice a few different modules that you can import to enable you to accomplish more or less the same objective. The three most common are [matplotlib](https://matplotlib.org/index.html), [pyplot](https://matplotlib.org/api/pyplot_api.html), and pylab. We will leave it to you to read the [official documentation to see how these three are related](https://matplotlib.org/faq/usage_faq.html#matplotlib-pyplot-and-pylab-how-are-they-related). For this lecture series, we will be importing `matplotlib.pyplot` as `plt` so that it is always clear from where each function call is coming.\n",
    "\n",
    "Let us start with a simple example by plotting the function $$y = t^2e^{-t^2}.$$"
   ]
  },
  {
   "cell_type": "code",
   "execution_count": null,
   "metadata": {
    "editable": true,
    "execution": {
     "iopub.execute_input": "2024-08-27T14:31:57.735947Z",
     "iopub.status.busy": "2024-08-27T14:31:57.735361Z",
     "iopub.status.idle": "2024-08-27T14:31:58.065956Z",
     "shell.execute_reply": "2024-08-27T14:31:58.065366Z"
    },
    "slideshow": {
     "slide_type": ""
    },
    "tags": []
   },
   "outputs": [],
   "source": [
    "import numpy as np\n",
    "import matplotlib.pyplot as plt\n",
    "\n",
    "t = np.linspace(0, 3, 51)\n",
    "y = t**2 * np.exp(-t**2)\n",
    "plt.plot(t, y)\n",
    "plt.show()"
   ]
  },
  {
   "cell_type": "markdown",
   "metadata": {
    "editable": true,
    "slideshow": {
     "slide_type": ""
    },
    "tags": []
   },
   "source": [
    "Plots also should have *labels* on the axis, a *title*, and sometimes a specific extent of the axis (perhaps you wish to easily compare two graphs side-by-side):"
   ]
  },
  {
   "cell_type": "code",
   "execution_count": null,
   "metadata": {
    "editable": true,
    "execution": {
     "iopub.execute_input": "2024-08-27T14:31:58.068436Z",
     "iopub.status.busy": "2024-08-27T14:31:58.067846Z",
     "iopub.status.idle": "2024-08-27T14:31:58.199978Z",
     "shell.execute_reply": "2024-08-27T14:31:58.199436Z"
    },
    "slideshow": {
     "slide_type": ""
    },
    "tags": []
   },
   "outputs": [],
   "source": [
    "def f(t):\n",
    "    return t**2 * np.exp(-t**2)\n",
    "\n",
    "\n",
    "t = np.linspace(0, 3, 51)  # Generates 51 points between 0 and 3.\n",
    "y = f(t)\n",
    "plt.plot(t, y, label=r\"$t^2\\exp(-t^2)$\")  # For added awesomeness you can use LaTeX syntax.\n",
    "\n",
    "# Add a legend to our plot.\n",
    "plt.legend()\n",
    "\n",
    "# Label the axes.\n",
    "plt.xlabel(r\"$t$\")\n",
    "plt.ylabel(r\"$y$\")\n",
    "\n",
    "# Specify the extent of the axes [tmin, tmax, ymin, ymax].\n",
    "plt.axis([0, 3, -0.05, 0.6])\n",
    "\n",
    "# Set the plot title.\n",
    "plt.title(\"My second graph\")\n",
    "\n",
    "plt.show()"
   ]
  },
  {
   "cell_type": "markdown",
   "metadata": {
    "editable": true,
    "slideshow": {
     "slide_type": ""
    },
    "tags": []
   },
   "source": [
    "## Exercise 3.1: Plot a formula\n",
    "\n",
    "> NOTE: We have found that automated assessment is too unreliable for assessing plots. For feedback on the plots compare with your peers or ask one of the TAs to give you feedback.\n",
    "\n",
    "Make a plot of the function $$y(t) = v_0t − {1\\over2}gt^2$$ for $v_0 = 10 \\,\\text{ms}^{-1}$, $g = 9.81 \\,\\text{ms}^{-2}$, and $t \\in [0, 2v_0/g]$. The label on the $x$ axis should be 'time (s)' and the label on the $y$ axis should be 'height (m)'."
   ]
  },
  {
   "cell_type": "code",
   "execution_count": null,
   "metadata": {
    "editable": true,
    "execution": {
     "iopub.execute_input": "2024-08-27T14:31:58.202144Z",
     "iopub.status.busy": "2024-08-27T14:31:58.201807Z",
     "iopub.status.idle": "2024-08-27T14:31:58.204371Z",
     "shell.execute_reply": "2024-08-27T14:31:58.203832Z"
    },
    "slideshow": {
     "slide_type": ""
    },
    "tags": []
   },
   "outputs": [],
   "source": [
    "# Write your code here."
   ]
  },
  {
   "cell_type": "markdown",
   "metadata": {
    "editable": true,
    "slideshow": {
     "slide_type": ""
    },
    "tags": []
   },
   "source": [
    "## Exercise 3.2: Plot another formula\n",
    "\n",
    "The function\n",
    "\n",
    "$$f(x, t) = e^{-(x - 3t)^2}\\sin(3\\pi(x - t))$$\n",
    "\n",
    "describes, for a fixed value of $t$, a wave localised in space. Write a program that visualises this function as a function of $x$ on the interval $[−4, 4]$ when $t = 0$."
   ]
  },
  {
   "cell_type": "code",
   "execution_count": null,
   "metadata": {
    "editable": true,
    "execution": {
     "iopub.execute_input": "2024-08-27T14:31:58.281036Z",
     "iopub.status.busy": "2024-08-27T14:31:58.280874Z",
     "iopub.status.idle": "2024-08-27T14:31:58.283257Z",
     "shell.execute_reply": "2024-08-27T14:31:58.282742Z"
    },
    "slideshow": {
     "slide_type": ""
    },
    "tags": []
   },
   "outputs": [],
   "source": [
    "# Write your code here."
   ]
  },
  {
   "cell_type": "markdown",
   "metadata": {
    "editable": true,
    "slideshow": {
     "slide_type": ""
    },
    "tags": []
   },
   "source": [
    "## Multiple curves in the same plot\n",
    "\n",
    "We can also plot several curves in one plot:"
   ]
  },
  {
   "cell_type": "code",
   "execution_count": null,
   "metadata": {
    "editable": true,
    "execution": {
     "iopub.execute_input": "2024-08-27T14:31:58.374340Z",
     "iopub.status.busy": "2024-08-27T14:31:58.374010Z",
     "iopub.status.idle": "2024-08-27T14:31:58.531939Z",
     "shell.execute_reply": "2024-08-27T14:31:58.531417Z"
    },
    "slideshow": {
     "slide_type": ""
    },
    "tags": []
   },
   "outputs": [],
   "source": [
    "def f1(t):\n",
    "    return t**2 * np.exp(-t**2)\n",
    "\n",
    "\n",
    "def f2(t):\n",
    "    return t**2 * f1(t)\n",
    "\n",
    "\n",
    "t = np.linspace(0, 3, 51)\n",
    "y1 = f1(t)\n",
    "y2 = f2(t)\n",
    "\n",
    "plt.plot(t, y1, label=r\"$t^2\\exp(-t^2)$\")\n",
    "plt.plot(t, y2, label=r\"$t^4\\exp(-t^2)$\")\n",
    "plt.legend(loc=\"best\")  # uses labels we defined previously\n",
    "plt.xlabel(\"$t$\")\n",
    "plt.ylabel(\"$y$\")\n",
    "plt.title(\"Plotting two curves in the same plot\")\n",
    "\n",
    "plt.show()"
   ]
  },
  {
   "cell_type": "markdown",
   "metadata": {
    "editable": true,
    "slideshow": {
     "slide_type": ""
    },
    "tags": []
   },
   "source": [
    "When plotting multiple curves in the same plot, PyLab usually does a good job of making sure that the different lines look different. However, sometimes you need to take action yourself (e.g. if you need to print your graph out in black&white). To do this, we can add an extra argument to the plot command, where we specify what we want - e.g. `r-` means a *red solid line*, while `bo` means *blue circles*:"
   ]
  },
  {
   "cell_type": "code",
   "execution_count": null,
   "metadata": {
    "editable": true,
    "execution": {
     "iopub.execute_input": "2024-08-27T14:31:58.534016Z",
     "iopub.status.busy": "2024-08-27T14:31:58.533853Z",
     "iopub.status.idle": "2024-08-27T14:31:58.601868Z",
     "shell.execute_reply": "2024-08-27T14:31:58.601334Z"
    },
    "slideshow": {
     "slide_type": ""
    },
    "tags": []
   },
   "outputs": [],
   "source": [
    "plt.plot(t, y1, \"r-\")\n",
    "plt.plot(t, y2, \"bo\")\n",
    "plt.grid()  # we can also add a grid to our plot\n",
    "plt.show()"
   ]
  },
  {
   "cell_type": "markdown",
   "metadata": {
    "editable": true,
    "slideshow": {
     "slide_type": ""
    },
    "tags": []
   },
   "source": [
    "For further examples check out the [matplotlib](https://matplotlib.org/) documentation."
   ]
  },
  {
   "cell_type": "markdown",
   "metadata": {
    "editable": true,
    "slideshow": {
     "slide_type": ""
    },
    "tags": []
   },
   "source": [
    "## Exercise 3.3: Plot a formula for several parameters\n",
    "\n",
    "Write a program in which you generate 10 uniformly spaced values for $v_0$ range from 1 to 20, and plot the function $y(t) = v_0t − \\frac{1}{2}gt^2$ within the time range $t \\in [0, 2v_0/g]$. Assume $g = 9.81 \\,\\text{ms}^{-2}$."
   ]
  },
  {
   "cell_type": "code",
   "execution_count": null,
   "metadata": {
    "editable": true,
    "execution": {
     "iopub.execute_input": "2024-08-27T14:31:58.603994Z",
     "iopub.status.busy": "2024-08-27T14:31:58.603667Z",
     "iopub.status.idle": "2024-08-27T14:31:58.606130Z",
     "shell.execute_reply": "2024-08-27T14:31:58.605610Z"
    },
    "slideshow": {
     "slide_type": ""
    },
    "tags": []
   },
   "outputs": [],
   "source": [
    "# Write your code here."
   ]
  },
  {
   "cell_type": "markdown",
   "metadata": {
    "editable": true,
    "slideshow": {
     "slide_type": "slide"
    },
    "tags": []
   },
   "source": [
    "## Handling errors gracefully\n",
    "\n",
    "We expect you have seen plenty of run-time errors. When an error occurs, an `Exception` is *raised*. These exceptions tend to be very specific, and it is worth familiarizing yourself with them by reading the [relevant section](https://docs.python.org/3/library/exceptions.html#concrete-exceptions) from Python's documentation.\n",
    "\n",
    "Let us take a look at an example of an out of bounds reference - this raises an exception called an `IndexError`.\n",
    "\n",
    "```python \n",
    "places_to_visit = (\"Pompeii\",\n",
    "                   \"Fernanda de Noronha\",\n",
    "                   \"Dolomites\",\n",
    "                   \"Bourbon Street\")\n",
    "print(places_to_visit[4])\n",
    "\n",
    "---------------------------------------------------------------------------\n",
    "IndexError                                Traceback (most recent call last)\n",
    "<ipython-input-6-6a516db87396> in <module>()\n",
    "      1 places_to_visit = (\"Pompeii\", \"Fernanda de Noronha\", \"Dolomites\", \"Bourbon Street\")\n",
    "      2 option = 4 # lets assume that the user has given the input option 4\n",
    "----> 3 print(places_to_visit[option])\n",
    "\n",
    "IndexError: tuple index out of range\n",
    "```"
   ]
  },
  {
   "cell_type": "markdown",
   "metadata": {
    "editable": true,
    "slideshow": {
     "slide_type": "subslide"
    },
    "tags": []
   },
   "source": [
    "Here we have an `IndexError` (i.e. a reference out-of-bounds) with the clarification that it is the **tuple index out of range**.\n",
    "\n",
    "The general way we deal with this issue in Python (and in many other programming languages) is to try to do what we indend to, and if it fails, we recover from the error. This is implemented using the `try`-`except` block:\n",
    "```python\n",
    "try:\n",
    "    <statements we indend to do>\n",
    "except:\n",
    "    <statements for handling errors>\n",
    "```"
   ]
  },
  {
   "cell_type": "markdown",
   "metadata": {
    "editable": true,
    "slideshow": {
     "slide_type": "subslide"
    },
    "tags": []
   },
   "source": [
    "If something goes wrong in the `try` block, Python raises an **exception**, and the execution jumps immediately to the `except` block. If you use an `except` by itself as above, then it will catch all exceptions raised, but this is generally considered bad practice as it can hide errors that you might not have anticipated - the last thing we want is to hide a bug!\n",
    "\n",
    "Let us try an example:"
   ]
  },
  {
   "cell_type": "code",
   "execution_count": null,
   "metadata": {
    "editable": true,
    "execution": {
     "iopub.execute_input": "2024-08-27T14:31:58.701597Z",
     "iopub.status.busy": "2024-08-27T14:31:58.701323Z",
     "iopub.status.idle": "2024-08-27T14:31:58.704905Z",
     "shell.execute_reply": "2024-08-27T14:31:58.704362Z"
    },
    "slideshow": {
     "slide_type": "subslide"
    },
    "tags": []
   },
   "outputs": [],
   "source": [
    "def get_location(index):\n",
    "    places_to_visit = (\"Pompeii\",\n",
    "                       \"Fernanda de Noronha\",\n",
    "                       \"Dolomites\",\n",
    "                       \"Bourbon Street\")\n",
    "\n",
    "    try:\n",
    "        return places_to_visit[index]\n",
    "    except TypeError:\n",
    "        raise TypeError(\"The index should be an integer.\")\n",
    "    except IndexError:\n",
    "        raise IndexError(\"Values must be between 0-3.\")\n",
    "\n",
    "\n",
    "print(\"Test case 1: \", get_location(1))"
   ]
  },
  {
   "cell_type": "markdown",
   "metadata": {
    "editable": true,
    "slideshow": {
     "slide_type": ""
    },
    "tags": []
   },
   "source": [
    "If we pass 4 as an argument, an `IndexError` is raised.\n",
    "\n",
    "```python\n",
    "print(\"Test case 2: \", get_location(4))\n",
    "\n",
    "---------------------------------------------------------------------------\n",
    "IndexError                                Traceback (most recent call last)\n",
    "<ipython-input-9-9d82aff2337b> in get_location(index)\n",
    "      7     try:\n",
    "----> 8         return places_to_visit[index]\n",
    "      9     except TypeError:\n",
    "\n",
    "IndexError: tuple index out of range\n",
    "\n",
    "During handling of the above exception, another exception occurred:\n",
    "\n",
    "IndexError                                Traceback (most recent call last)\n",
    "<ipython-input-10-baa17f0505ab> in <module>()\n",
    "      1 # If we pass in 4 as an argument, an *IndexError* ia raised.\n",
    "----> 2 print(\"Test case 2: \", get_location(4))\n",
    "\n",
    "<ipython-input-9-9d82aff2337b> in get_location(index)\n",
    "     10         raise TypeError(\"The index should be an integer.\")\n",
    "     11     except IndexError:\n",
    "---> 12         raise IndexError(\"Values must be between 0-3.\")\n",
    "     13 \n",
    "     14     return None\n",
    "\n",
    "IndexError: Values must be between 0-3.\n",
    "```"
   ]
  },
  {
   "cell_type": "markdown",
   "metadata": {
    "editable": true,
    "slideshow": {
     "slide_type": ""
    },
    "tags": []
   },
   "source": [
    "In the above example the expected input is an integer. If the user types a string, *e.g.*, `\"four\"`, then a `TypeError` is raised, and the approperiate `except`-block is executed.\n",
    "\n",
    "```python\n",
    "print(\"Test case 3: \", get_location(\"four\"))\n",
    "\n",
    "---------------------------------------------------------------------------\n",
    "TypeError                                 Traceback (most recent call last)\n",
    "<ipython-input-9-9d82aff2337b> in get_location(index)\n",
    "      7     try:\n",
    "----> 8         return places_to_visit[index]\n",
    "      9     except TypeError:\n",
    "\n",
    "TypeError: tuple indices must be integers or slices, not str\n",
    "\n",
    "During handling of the above exception, another exception occurred:\n",
    "\n",
    "TypeError                                 Traceback (most recent call last)\n",
    "<ipython-input-10-a8af82536957> in <module>()\n",
    "      2 # If the user types a string, e.g. \"four\", then a **TypeError** is raised,\n",
    "      3 # and the approperiate except block is executed.\n",
    "----> 4 print(\"Test case 3: \", get_location(\"four\"))\n",
    "\n",
    "<ipython-input-9-9d82aff2337b> in get_location(index)\n",
    "      8         return places_to_visit[index]\n",
    "      9     except TypeError:\n",
    "---> 10         raise TypeError(\"The index should be an integer.\")\n",
    "     11     except IndexError:\n",
    "     12         raise IndexError(\"Values must be between 0-3.\")\n",
    "\n",
    "TypeError: The index should be an integer.\n",
    "```"
   ]
  },
  {
   "cell_type": "markdown",
   "metadata": {
    "editable": true,
    "slideshow": {
     "slide_type": "subslide"
    },
    "tags": []
   },
   "source": [
    "This is still not perfect. What happens if you enter -1?"
   ]
  },
  {
   "cell_type": "code",
   "execution_count": null,
   "metadata": {
    "editable": true,
    "execution": {
     "iopub.execute_input": "2024-08-27T14:31:58.707182Z",
     "iopub.status.busy": "2024-08-27T14:31:58.706685Z",
     "iopub.status.idle": "2024-08-27T14:31:58.709898Z",
     "shell.execute_reply": "2024-08-27T14:31:58.709420Z"
    },
    "slideshow": {
     "slide_type": ""
    },
    "tags": []
   },
   "outputs": [],
   "source": [
    "print(\"Test case 4: \", get_location(-1))"
   ]
  },
  {
   "cell_type": "markdown",
   "metadata": {
    "editable": true,
    "slideshow": {
     "slide_type": "subslide"
    },
    "tags": []
   },
   "source": [
    "Recall that negative indices traverse the list from the end to the beginning. We can deal with this issue more elegantly/robustly if we **raise** our own error:"
   ]
  },
  {
   "cell_type": "code",
   "execution_count": null,
   "metadata": {
    "editable": true,
    "execution": {
     "iopub.execute_input": "2024-08-27T14:31:58.711972Z",
     "iopub.status.busy": "2024-08-27T14:31:58.711527Z",
     "iopub.status.idle": "2024-08-27T14:31:58.715134Z",
     "shell.execute_reply": "2024-08-27T14:31:58.714629Z"
    },
    "slideshow": {
     "slide_type": "fragment"
    },
    "tags": []
   },
   "outputs": [],
   "source": [
    "def get_location(index):\n",
    "    places_to_visit = (\"Pompeii\",\n",
    "                       \"Fernanda de Noronha\",\n",
    "                       \"Dolomites\",\n",
    "                       \"Bourbon Street\")\n",
    "\n",
    "    try:\n",
    "        if not 0 <= index < len(places_to_visit):\n",
    "            raise IndexError\n",
    "\n",
    "        return places_to_visit[index]\n",
    "    except TypeError:\n",
    "        raise TypeError(\"The index should be an integer.\")\n",
    "    except IndexError:\n",
    "        raise IndexError(\"Values must be between 0-3.\")"
   ]
  },
  {
   "cell_type": "markdown",
   "metadata": {
    "editable": true,
    "slideshow": {
     "slide_type": "fragment"
    },
    "tags": []
   },
   "source": [
    "```python\n",
    "print(\"Test case 5: \", get_location(-1))\n",
    "\n",
    "---------------------------------------------------------------------------\n",
    "IndexError                                Traceback (most recent call last)\n",
    "<ipython-input-11-d29b7f03e343> in get_location(index)\n",
    "      8         if not 0 <= index < len(places_to_visit):\n",
    "----> 9             raise IndexError\n",
    "     10 \n",
    "\n",
    "IndexError: \n",
    "\n",
    "During handling of the above exception, another exception occurred:\n",
    "\n",
    "IndexError                                Traceback (most recent call last)\n",
    "<ipython-input-11-d29b7f03e343> in <module>()\n",
    "     17     return None\n",
    "     18 \n",
    "---> 19 print(\"Test case 5: \", get_location(-1))\n",
    "\n",
    "<ipython-input-11-d29b7f03e343> in get_location(index)\n",
    "     13         raise TypeError(\"The index should be an integer.\")\n",
    "     14     except IndexError:\n",
    "---> 15         raise IndexError(\"Values must be between 0-3.\")\n",
    "     16 \n",
    "     17     return None\n",
    "\n",
    "IndexError: Values must be between 0-3.\n",
    "```"
   ]
  },
  {
   "cell_type": "markdown",
   "metadata": {
    "editable": true,
    "slideshow": {
     "slide_type": "slide"
    },
    "tags": []
   },
   "source": [
    "## Exercise 3.4: Test more in the program\n",
    "\n",
    "Consider the equation of motion in Exercise 3.1.\n",
    "\n",
    "* Implement this as a Python function - call the function `displacement` and specify two positional arguments $t$ and $v_0$ and one keyword argument $g = 9.81\\,\\text{ms}^{-2}$.\n",
    "* The function should raise a `ValueError` if either $t$ or $v_0$ are negative."
   ]
  },
  {
   "cell_type": "code",
   "execution_count": null,
   "metadata": {
    "editable": true,
    "execution": {
     "iopub.execute_input": "2024-08-27T14:31:58.717013Z",
     "iopub.status.busy": "2024-08-27T14:31:58.716855Z",
     "iopub.status.idle": "2024-08-27T14:31:58.719240Z",
     "shell.execute_reply": "2024-08-27T14:31:58.718720Z"
    },
    "slideshow": {
     "slide_type": "subslide"
    },
    "tags": []
   },
   "outputs": [],
   "source": [
    "# Uncomment and modify the code below. Do not change variable names for testing purposes.\n",
    "\n",
    "# def displacement(t, v0, g=9.81):\n",
    "#     ..."
   ]
  },
  {
   "cell_type": "code",
   "execution_count": null,
   "metadata": {
    "editable": true,
    "execution": {
     "iopub.execute_input": "2024-08-27T14:31:58.725485Z",
     "iopub.status.busy": "2024-08-27T14:31:58.725326Z",
     "iopub.status.idle": "2024-08-27T14:31:58.732652Z",
     "shell.execute_reply": "2024-08-27T14:31:58.732148Z"
    },
    "slideshow": {
     "slide_type": ""
    },
    "tags": [
     "pybryt"
    ]
   },
   "outputs": [],
   "source": [
    "with pybryt.check(pybryt_reference(3, 4)):\n",
    "    displacement(t=1.6, v0=101.4)"
   ]
  },
  {
   "cell_type": "code",
   "execution_count": null,
   "metadata": {
    "editable": true,
    "execution": {
     "iopub.execute_input": "2024-08-27T14:31:58.734493Z",
     "iopub.status.busy": "2024-08-27T14:31:58.734345Z",
     "iopub.status.idle": "2024-08-27T14:31:58.775431Z",
     "shell.execute_reply": "2024-08-27T14:31:58.774932Z"
    },
    "slideshow": {
     "slide_type": ""
    },
    "tags": [
     "nbgrader"
    ]
   },
   "outputs": [],
   "source": [
    "import pytest\n",
    "import numbers\n",
    "\n",
    "assert displacement(t=0, v0=0, g=0) == 0\n",
    "assert displacement(t=1, v0=1, g=1) == 0.5\n",
    "\n",
    "with pytest.raises(ValueError):\n",
    "    displacement(t=-5, v0=0, g=0)\n",
    "\n",
    "### BEGIN HIDDEN TESTS\n",
    "with pytest.raises(ValueError):\n",
    "    displacement(t=-10, v0=10, g=10)\n",
    "\n",
    "with pytest.raises(ValueError):\n",
    "    displacement(t=10, v0=-10, g=10)\n",
    "\n",
    "assert isinstance(displacement(t=0, v0=0, g=0), numbers.Real)\n",
    "assert callable(displacement)\n",
    "### END HIDDEN TESTS"
   ]
  },
  {
   "cell_type": "markdown",
   "metadata": {
    "editable": true,
    "slideshow": {
     "slide_type": ""
    },
    "tags": []
   },
   "source": [
    "## Exercise 3.5: Implement the factorial function with exception handling\n",
    "\n",
    "The factorial of $n$, written as $n!$, is defined as\n",
    "\n",
    "$$n! = n(n − 1)(n − 2) \\cdot \\ldots \\cdot 2 \\cdot 1,$$\n",
    "\n",
    "with the special cases\n",
    "\n",
    "$$1! = 1,$$ $$0! = 1.$$\n",
    "\n",
    "For example, $4! = 4 \\cdot 3 \\cdot 2 \\cdot 1 = 24$, and $2! = 2 \\cdot 1 = 2$.\n",
    "\n",
    "Implement your own factorial function to calculate $n!$ and name it `my_factorial`. Return $1$ immediately if $n$ is $1$ or $0$, otherwise use a loop to compute $n!$. You can use Python's own [math.factorial(x)](https://docs.python.org/3/library/math.html) to check your code.\n",
    "\n",
    "If negative $n$ is passed, `ValueError` should be raised."
   ]
  },
  {
   "cell_type": "code",
   "execution_count": null,
   "metadata": {
    "editable": true,
    "execution": {
     "iopub.execute_input": "2024-08-27T14:31:58.777489Z",
     "iopub.status.busy": "2024-08-27T14:31:58.777205Z",
     "iopub.status.idle": "2024-08-27T14:31:58.779698Z",
     "shell.execute_reply": "2024-08-27T14:31:58.779195Z"
    },
    "slideshow": {
     "slide_type": ""
    },
    "tags": []
   },
   "outputs": [],
   "source": [
    "# Uncomment and complete this code - keep the names the same for testing purposes.\n",
    "\n",
    "# def my_factorial(x):\n",
    "#     ..."
   ]
  },
  {
   "cell_type": "code",
   "execution_count": null,
   "metadata": {
    "editable": true,
    "execution": {
     "iopub.execute_input": "2024-08-27T14:31:58.786311Z",
     "iopub.status.busy": "2024-08-27T14:31:58.785990Z",
     "iopub.status.idle": "2024-08-27T14:31:58.797830Z",
     "shell.execute_reply": "2024-08-27T14:31:58.797347Z"
    },
    "slideshow": {
     "slide_type": ""
    },
    "tags": [
     "pybryt"
    ]
   },
   "outputs": [],
   "source": [
    "with pybryt.check(pybryt_reference(3, 5)):\n",
    "    my_factorial(10)"
   ]
  },
  {
   "cell_type": "code",
   "execution_count": null,
   "metadata": {
    "editable": true,
    "execution": {
     "iopub.execute_input": "2024-08-27T14:31:58.799730Z",
     "iopub.status.busy": "2024-08-27T14:31:58.799450Z",
     "iopub.status.idle": "2024-08-27T14:31:58.802714Z",
     "shell.execute_reply": "2024-08-27T14:31:58.802207Z"
    },
    "slideshow": {
     "slide_type": ""
    },
    "tags": [
     "nbgrader"
    ]
   },
   "outputs": [],
   "source": [
    "import pytest\n",
    "import numbers\n",
    "\n",
    "assert my_factorial(0) == 1\n",
    "assert my_factorial(1) == 1\n",
    "assert my_factorial(2) == 2\n",
    "assert my_factorial(5) == 120\n",
    "\n",
    "with pytest.raises(ValueError):\n",
    "    my_factorial(-5)\n",
    "\n",
    "### BEGIN HIDDEN TESTS\n",
    "assert isinstance(my_factorial(5), numbers.Real)\n",
    "assert callable(my_factorial)\n",
    "### END HIDDEN TESTS"
   ]
  },
  {
   "cell_type": "markdown",
   "metadata": {
    "editable": true,
    "slideshow": {
     "slide_type": ""
    },
    "tags": []
   },
   "source": [
    "## Exercise 3.6: Wave speed\n",
    "\n",
    "The longitudinal wave velocity in a material is given by the equation:\n",
    "\n",
    "$$V_p = \\sqrt{\\frac{k+4\\mu/3}{\\rho}},$$\n",
    "\n",
    "where $V_p$ is the longitudinal wave velocity, $k$ is the bulk modulus, $\\mu$ is the shear modulus, and $\\rho$ is the density. The shear wave velocity $V_s$ is given by the equation:\n",
    "$$V_s = \\sqrt{\\frac{\\mu}{\\rho}}.$$\n",
    "\n",
    "1. Write a function that takes as arguments $k$, $\\mu$ and $\\rho$, and returns $V_p$ and $V_s$.\n",
    "2. Ensure your function raises a `ValueError` if any of the input arguments have a non-physical value (i.e. it cannot have negative density).\n",
    "\n",
    "| Material               | Shear modulus (GPa) | Bulk modulus (GPa) | Density (kg/m^3)|\n",
    "|------------------------|---------------------|--------------------|-----------------|\n",
    "|Quartz                  | 44                  | 38                 | 2650            | \n",
    "|Clay                    | 6.85                | 20.9               | 2580            |\n",
    "|Water                   | 0                   | 2.29               | 1000            |\n",
    "\n",
    "**HINT**: Notice that $k$ and $\\mu$ are in GPa and that the unit conversion is required."
   ]
  },
  {
   "cell_type": "code",
   "execution_count": null,
   "metadata": {
    "editable": true,
    "execution": {
     "iopub.execute_input": "2024-08-27T14:31:58.804534Z",
     "iopub.status.busy": "2024-08-27T14:31:58.804381Z",
     "iopub.status.idle": "2024-08-27T14:31:58.806675Z",
     "shell.execute_reply": "2024-08-27T14:31:58.806188Z"
    },
    "slideshow": {
     "slide_type": ""
    },
    "tags": []
   },
   "outputs": [],
   "source": [
    "# Uncomment and complete this code - keep the names the same for testing purposes.\n",
    "\n",
    "# def calc_material_velocity(mu, k, rho):\n",
    "#     ...\n",
    "#     return vp, vs"
   ]
  },
  {
   "cell_type": "code",
   "execution_count": null,
   "metadata": {
    "editable": true,
    "execution": {
     "iopub.execute_input": "2024-08-27T14:31:58.813274Z",
     "iopub.status.busy": "2024-08-27T14:31:58.813122Z",
     "iopub.status.idle": "2024-08-27T14:31:58.820165Z",
     "shell.execute_reply": "2024-08-27T14:31:58.819693Z"
    },
    "slideshow": {
     "slide_type": ""
    },
    "tags": [
     "pybryt"
    ]
   },
   "outputs": [],
   "source": [
    "with pybryt.check(pybryt_reference(3, 6)):\n",
    "    calc_material_velocity(1.4e9, 2.4e9, 3.6e3)"
   ]
  },
  {
   "cell_type": "code",
   "execution_count": null,
   "metadata": {
    "editable": true,
    "execution": {
     "iopub.execute_input": "2024-08-27T14:31:58.822119Z",
     "iopub.status.busy": "2024-08-27T14:31:58.821797Z",
     "iopub.status.idle": "2024-08-27T14:31:58.826141Z",
     "shell.execute_reply": "2024-08-27T14:31:58.825655Z"
    },
    "slideshow": {
     "slide_type": ""
    },
    "tags": [
     "nbgrader"
    ]
   },
   "outputs": [],
   "source": [
    "import pytest\n",
    "import numbers\n",
    "import numpy as np\n",
    "\n",
    "assert np.allclose(calc_material_velocity(0, 1e-9, 1), (1, 0))\n",
    "assert len(calc_material_velocity(0, 1e-9, 1)) == 2\n",
    "assert np.allclose(calc_material_velocity(1e-9, 1e-9, 1), (np.sqrt(1 + 4/3), 1))\n",
    "\n",
    "with pytest.raises(ValueError):\n",
    "    calc_material_velocity(-5, 5, 5)\n",
    "\n",
    "### BEGIN HIDDEN TESTS\n",
    "with pytest.raises(ValueError):\n",
    "    calc_material_velocity(5, -5, 5)\n",
    "with pytest.raises(ValueError):\n",
    "    calc_material_velocity(5, 5, -5)\n",
    "\n",
    "assert isinstance(calc_material_velocity(0, 1e-9, 1), tuple)\n",
    "assert all([isinstance(i, numbers.Real) for i in calc_material_velocity(5, 5, 5)])\n",
    "assert callable(calc_material_velocity)\n",
    "### END HIDDEN TESTS"
   ]
  },
  {
   "cell_type": "markdown",
   "metadata": {
    "editable": true,
    "slideshow": {
     "slide_type": ""
    },
    "tags": []
   },
   "source": [
    "## Reading data from a plain text file\n",
    "\n",
    "We can read text from a [text file](http://en.wikipedia.org/wiki/Text_file) into strings in a program. This is a common (and simple) way for a program to get input data. The basic recipe is:\n",
    "```python\n",
    "# Open text file\n",
    "with open(\"myfile.txt\", \"r\") as infile: # \"r\" specifies that we are opening the file for reading\n",
    "\n",
    "    # Read first line:\n",
    "    line = infile.readline()\n",
    "\n",
    "    # Read the lines in a loop one by one:\n",
    "    for line in infile:\n",
    "        <process line>\n",
    "\n",
    "    # Load all remaining lines into a list of strings:\n",
    "    lines = infile.readlines()\n",
    "    \n",
    "for line in lines:\n",
    "    <process line>\n",
    "```"
   ]
  },
  {
   "cell_type": "markdown",
   "metadata": {
    "editable": true,
    "slideshow": {
     "slide_type": ""
    },
    "tags": []
   },
   "source": [
    "Let us look at the file [`./data/data1.txt`](./data/data1.txt) (all of the data files in this lecture are stored in the sub-folder `data/` of this notebook directory). The file has a column of numbers:\n",
    "\n",
    "```\n",
    "21.8\n",
    "18.1\n",
    "19\n",
    "23\n",
    "26\n",
    "17.8\n",
    "```\n",
    "\n",
    "The goal is to read this file and calculate the mean:"
   ]
  },
  {
   "cell_type": "code",
   "execution_count": null,
   "metadata": {
    "editable": true,
    "execution": {
     "iopub.execute_input": "2024-08-27T14:31:58.828011Z",
     "iopub.status.busy": "2024-08-27T14:31:58.827859Z",
     "iopub.status.idle": "2024-08-27T14:31:58.831479Z",
     "shell.execute_reply": "2024-08-27T14:31:58.830967Z"
    },
    "slideshow": {
     "slide_type": ""
    },
    "tags": []
   },
   "outputs": [],
   "source": [
    "# Initialise values\n",
    "s = 0\n",
    "n = 0\n",
    "\n",
    "# Open data file\n",
    "with open(\"data/data1.txt\", \"r\") as infile:\n",
    "\n",
    "    # Loop to compute sum\n",
    "    for number in infile:\n",
    "        number = float(number)  # convert string to float\n",
    "        s += number\n",
    "        n += 1\n",
    "\n",
    "# Calculate the mean.\n",
    "mean = s/n\n",
    "\n",
    "print(mean)"
   ]
  },
  {
   "cell_type": "markdown",
   "metadata": {
    "editable": true,
    "slideshow": {
     "slide_type": ""
    },
    "tags": []
   },
   "source": [
    "Let us make this example more interesting. There is a **lot** of data out there for you to discover all kinds of interesting facts - you just need to be interested in learning a little analysis. For this case we have downloaded tidal gauge data for the port of Avonmouth from the [BODC](http://www.bodc.ac.uk/). Take some time now to open the file and have a look through it - [data/2012AVO.txt](data/2012AVO.txt) you will see the [metadata](http://en.wikipedia.org/wiki/Metadata):\n",
    "```\n",
    "Port:              P060  \n",
    "Site:              Avonmouth  \n",
    "Latitude:          51.51089  \n",
    "Longitude:         -2.71497  \n",
    "Start Date:        01JAN2012-00.00.00  \n",
    "End Date:          30APR2012-23.45.00  \n",
    "Contributor:       National Oceanography Centre, Liverpool  \n",
    "Datum information: The data refer to Admiralty Chart Datum (ACD)  \n",
    "Parameter code:    ASLVTD02 = Surface elevation (unspecified datum) of the water body by fixed in-situ pressure sensor\n",
    "```"
   ]
  },
  {
   "cell_type": "markdown",
   "metadata": {
    "editable": true,
    "slideshow": {
     "slide_type": ""
    },
    "tags": []
   },
   "source": [
    "Let us read the column ASLVTD02 (the surface elevation) and plot it:"
   ]
  },
  {
   "cell_type": "code",
   "execution_count": null,
   "metadata": {
    "editable": true,
    "execution": {
     "iopub.execute_input": "2024-08-27T14:31:58.833527Z",
     "iopub.status.busy": "2024-08-27T14:31:58.833256Z",
     "iopub.status.idle": "2024-08-27T14:31:59.043468Z",
     "shell.execute_reply": "2024-08-27T14:31:59.042897Z"
    },
    "slideshow": {
     "slide_type": ""
    },
    "tags": []
   },
   "outputs": [],
   "source": [
    "import pendulum\n",
    "import numpy as np\n",
    "import matplotlib.pyplot as plt\n",
    "\n",
    "# Initialise an empty list to store the elevation\n",
    "elevation = []\n",
    "time = []\n",
    "\n",
    "with open(\"data/2012AVO.txt\", \"r\") as tide_file:\n",
    "    for line in tide_file:\n",
    "        # Here we use a try/except block to try to read the data and\n",
    "        # raise an exception if we fail to parse the data in a line\n",
    "        # for some reason. This is a neat trick to skip over all the\n",
    "        # header information.\n",
    "        try:\n",
    "            # Split this line into words.\n",
    "            words = line.split()\n",
    "\n",
    "            # If we do not have 5 words then the line must be part of the header.\n",
    "            if len(words) != 5:\n",
    "                raise ValueError\n",
    "\n",
    "            # The elevation data is in the 4th column. However, the BODC\n",
    "            # appends a \"M\" when a value is improbable and an \"N\" when\n",
    "            # data is missing (maybe a ship dumped into it during rough weather!)\n",
    "            # As we are in a try/except block, an error will be raised\n",
    "            # in the float conversion when this situation arises.\n",
    "            level = float(words[3])\n",
    "            elevation.append(level)\n",
    "\n",
    "            # Form a single string with the date and time.\n",
    "            date_time = \" \".join(words[1:3])\n",
    "\n",
    "            # Dealing with dates and time is a major pain as there are\n",
    "            # several different formats. Luckily there are lots of people\n",
    "            # out there writting libraries that are making your life easier.\n",
    "            # At the moment the Python library *pendulum* seems to be the\n",
    "            # best out there for parsing various different date and time\n",
    "            # formats and is pretty easy to use.\n",
    "            date_time = pendulum.parse(date_time)\n",
    "\n",
    "            # So that we can plot this we are going to convert this date\n",
    "            # and time into a POSIX timestamp (aka UNIX Epoch time):\n",
    "            # https://en.wikipedia.org/wiki/Unix_time\n",
    "            time.append(date_time.timestamp())\n",
    "        except ValueError:\n",
    "            pass\n",
    "\n",
    "# For plotting lets convert the list to a NumPy array.\n",
    "elevation = np.array(elevation)\n",
    "time = np.array(time)\n",
    "\n",
    "plt.plot(time, elevation)\n",
    "plt.xlabel(\"timestamp\")\n",
    "plt.ylabel(\"Elevation (meters)\")\n",
    "plt.show()"
   ]
  },
  {
   "cell_type": "markdown",
   "metadata": {
    "editable": true,
    "slideshow": {
     "slide_type": ""
    },
    "tags": []
   },
   "source": [
    "You will notice in the above example that we used the `split()` string member function. This is a very useful function for grabbing individual words on a line. When called without any arguments it assumes that the [delimiter](http://en.wikipedia.org/wiki/Delimiter) is a blank space. However, you can use this to split a string with any delimiter, e.g. `line.split(\";\")` or `line.split(\":\")`."
   ]
  },
  {
   "cell_type": "markdown",
   "metadata": {
    "editable": true,
    "slideshow": {
     "slide_type": ""
    },
    "tags": []
   },
   "source": [
    "## Exercise 3.7: Read a two-column data file\n",
    "\n",
    "The file [data/xy.dat](./data/xy.dat) contains two columns of numbers, corresponding to $x$ and $y$ coordinates on a curve. The start of the file looks like this:\n",
    "```\n",
    "-1.0000   -0.0000  \n",
    "-0.9933   -0.0087  \n",
    "-0.9867   -0.0179  \n",
    "-0.9800   -0.0274  \n",
    "-0.9733   -0.0374\n",
    "```\n",
    "Make a program that reads the first column into a list `xlist` and the second column into a list `ylist`. Then convert the lists to arrays named `xarray` and `yarray`. Store the maximum and minimum y coordinates in two variables named `ymin` and `ymax`.\n",
    "\n",
    "**Hint**: Read the file line by line, split each line into words, convert to float, and append to `xlist` and `ylist`."
   ]
  },
  {
   "cell_type": "code",
   "execution_count": null,
   "metadata": {
    "editable": true,
    "execution": {
     "iopub.execute_input": "2024-08-27T14:31:59.045435Z",
     "iopub.status.busy": "2024-08-27T14:31:59.045275Z",
     "iopub.status.idle": "2024-08-27T14:31:59.047643Z",
     "shell.execute_reply": "2024-08-27T14:31:59.047135Z"
    },
    "slideshow": {
     "slide_type": ""
    },
    "tags": []
   },
   "outputs": [],
   "source": [
    "# Write your code here."
   ]
  },
  {
   "cell_type": "code",
   "execution_count": null,
   "metadata": {
    "editable": true,
    "execution": {
     "iopub.execute_input": "2024-08-27T14:31:59.055057Z",
     "iopub.status.busy": "2024-08-27T14:31:59.054904Z",
     "iopub.status.idle": "2024-08-27T14:31:59.068015Z",
     "shell.execute_reply": "2024-08-27T14:31:59.067533Z"
    },
    "slideshow": {
     "slide_type": ""
    },
    "tags": [
     "pybryt"
    ]
   },
   "outputs": [],
   "source": [
    "with pybryt.check(pybryt_reference(3, 7)):\n",
    "    xlist, ylist, xarray, yarray, ymin, ymax"
   ]
  },
  {
   "cell_type": "code",
   "execution_count": null,
   "metadata": {
    "editable": true,
    "execution": {
     "iopub.execute_input": "2024-08-27T14:31:59.070220Z",
     "iopub.status.busy": "2024-08-27T14:31:59.070056Z",
     "iopub.status.idle": "2024-08-27T14:31:59.074863Z",
     "shell.execute_reply": "2024-08-27T14:31:59.074358Z"
    },
    "slideshow": {
     "slide_type": ""
    },
    "tags": [
     "nbgrader"
    ]
   },
   "outputs": [],
   "source": [
    "import numbers\n",
    "import numpy as np\n",
    "\n",
    "assert np.isclose(xlist[0], -1)\n",
    "assert np.isclose(ylist[-1], 0)\n",
    "\n",
    "assert len(xlist) == len(ylist) == 301\n",
    "\n",
    "assert np.isclose(xarray[0], -1)\n",
    "assert np.isclose(yarray[-1], 0)\n",
    "\n",
    "assert np.isclose(ymin, -0.9482)\n",
    "assert np.isclose(ymax, 0.9482)\n",
    "\n",
    "### BEGIN HIDDEN TESTS\n",
    "assert np.isclose(xlist[-1], 1)\n",
    "assert np.isclose(ylist[0], 0)\n",
    "assert np.isclose(xarray[-1], 1)\n",
    "assert np.isclose(yarray[0], 0)\n",
    "\n",
    "assert xarray.shape == yarray.shape == (301,)\n",
    "\n",
    "assert all(isinstance(i, list) for i in [xlist, ylist])\n",
    "assert all(isinstance(i, np.ndarray) for i in [xarray, yarray])\n",
    "assert all(isinstance(i, numbers.Real) for i in [ymin, ymax])\n",
    "### END HIDDEN TESTS"
   ]
  },
  {
   "cell_type": "markdown",
   "metadata": {
    "editable": true,
    "slideshow": {
     "slide_type": ""
    },
    "tags": []
   },
   "source": [
    "## Exercise 3.8: Read a data file\n",
    "\n",
    "The files [data/density_water.dat](./data/density_water.dat) and [data/density_air.dat](./data/density_water.dat) contain data about the density of water and air (respectively) for different temperatures. The data files have some comment lines starting with `#`, and some lines are blank. The rest of the lines contain density data: the temperature in the first column and the corresponding density in the second column. This exercise aims to read the data in such a file, discard commented or blank lines, and plot the density versus the temperature as distinct (small) circles for each data point. Write a function `readTempDenFile` that takes a filename as an argument and returns two lists containing the temperature and the density. Call this function on both files, and store the temperature and density in lists called `temp_air_list`, `dens_air_list`, `temp_water_list` and `dens_water_list`."
   ]
  },
  {
   "cell_type": "code",
   "execution_count": null,
   "metadata": {
    "editable": true,
    "execution": {
     "iopub.execute_input": "2024-08-27T14:31:59.076869Z",
     "iopub.status.busy": "2024-08-27T14:31:59.076554Z",
     "iopub.status.idle": "2024-08-27T14:31:59.078953Z",
     "shell.execute_reply": "2024-08-27T14:31:59.078456Z"
    },
    "slideshow": {
     "slide_type": ""
    },
    "tags": []
   },
   "outputs": [],
   "source": [
    "# Uncomment and modify the following code. Do not change variable names for testing purposes.\n",
    "\n",
    "# def readTempDenFile(filename):\n",
    "#     ...\n",
    "\n",
    "# temp_air_list, dens_air_list = ...\n",
    "# temp_water_list, dens_water_list = ..."
   ]
  },
  {
   "cell_type": "code",
   "execution_count": null,
   "metadata": {
    "editable": true,
    "execution": {
     "iopub.execute_input": "2024-08-27T14:31:59.219752Z",
     "iopub.status.busy": "2024-08-27T14:31:59.219427Z",
     "iopub.status.idle": "2024-08-27T14:31:59.248137Z",
     "shell.execute_reply": "2024-08-27T14:31:59.247646Z"
    },
    "slideshow": {
     "slide_type": ""
    },
    "tags": [
     "pybryt"
    ]
   },
   "outputs": [],
   "source": [
    "with pybryt.check(pybryt_reference(3, 8)):\n",
    "    readTempDenFile(\"data/density_air.dat\")"
   ]
  },
  {
   "cell_type": "code",
   "execution_count": null,
   "metadata": {
    "editable": true,
    "execution": {
     "iopub.execute_input": "2024-08-27T14:31:59.250071Z",
     "iopub.status.busy": "2024-08-27T14:31:59.249798Z",
     "iopub.status.idle": "2024-08-27T14:31:59.256301Z",
     "shell.execute_reply": "2024-08-27T14:31:59.255781Z"
    },
    "slideshow": {
     "slide_type": ""
    },
    "tags": [
     "nbgrader"
    ]
   },
   "outputs": [],
   "source": [
    "import numbers\n",
    "import numpy as np\n",
    "\n",
    "assert isinstance(readTempDenFile(\"data/density_air.dat\"), tuple)\n",
    "assert len(readTempDenFile(\"data/density_air.dat\")) == 2\n",
    "\n",
    "assert isinstance(readTempDenFile(\"data/density_water.dat\"), tuple)\n",
    "assert len(readTempDenFile(\"data/density_water.dat\")) == 2\n",
    "\n",
    "assert np.isclose(temp_air_list[0], -10)\n",
    "assert np.isclose(dens_air_list[0], 1.341)\n",
    "assert np.isclose(dens_water_list[-1], 958.3665)\n",
    "\n",
    "assert len(temp_air_list) == len(dens_air_list) == 9\n",
    "\n",
    "### BEGIN HIDDEN TESTS\n",
    "assert all(isinstance(i, list) for i in readTempDenFile(\"data/density_air.dat\"))\n",
    "assert all(isinstance(i, list) for i in readTempDenFile(\"data/density_water.dat\"))\n",
    "\n",
    "assert isinstance(temp_air_list, list)\n",
    "assert isinstance(dens_air_list, list)\n",
    "assert isinstance(temp_water_list, list)\n",
    "assert isinstance(dens_water_list, list)\n",
    "\n",
    "assert all(isinstance(i, numbers.Real) for i in temp_air_list)\n",
    "assert all(isinstance(i, numbers.Real) for i in dens_air_list)\n",
    "\n",
    "assert np.isclose(temp_air_list[-1], 30)\n",
    "assert np.isclose(temp_water_list[0], 0)\n",
    "assert np.isclose(temp_water_list[-1], 100)\n",
    "\n",
    "assert all(isinstance(i, numbers.Real) for i in temp_water_list)\n",
    "assert all(isinstance(i, numbers.Real) for i in dens_water_list)\n",
    "\n",
    "assert callable(readTempDenFile)\n",
    "### END HIDDEN TESTS"
   ]
  },
  {
   "cell_type": "markdown",
   "metadata": {
    "editable": true,
    "slideshow": {
     "slide_type": ""
    },
    "tags": []
   },
   "source": [
    "## Exercise 3.9: Read acceleration data and find velocities\n",
    "\n",
    "A file [data/acc.dat](./data/acc.dat) contains measurements $a_0, a_1, \\ldots, a_{n-1}$ of the acceleration of an object moving along a straight line. The measurement $a_k$ is taken at time point $t_k = k \\Delta t$, where $\\Delta t$ is the time spacing between the measurements. The exercise aims to load the acceleration data into a program and compute the velocity $v(t)$ of the object at some time $t$.\n",
    "\n",
    "In general, the acceleration $a(t)$ is related to the velocity $v(t)$ through $v^\\prime(t) = a(t)$. This means that\n",
    "\n",
    "$$v(t) = v(0) + \\int_0^t{a(\\tau)d\\tau}.$$\n",
    "\n",
    "If $a(t)$ is only known at some discrete, equally spaced points in time, $a_0, \\ldots, a_{n-1}$ (which is the case in this exercise), we must compute the integral above numerically, for example, using the Trapezoidal rule:\n",
    "\n",
    "$$v(t_k) \\approx v(0) + \\Delta t \\left(\\frac{1}{2}a_0 + \\frac{1}{2}a_k + \\sum_{i=1}^{k-1}a_i \\right), \\ \\ 1 \\leq k \\leq n-1. $$\n",
    "\n",
    "We assume $v(0) = 0$, so $v_0 = 0$. Read the values $a_0, \\ldots, a_{n-1}$ from file into an array `acc_array` and plot the acceleration versus time for $\\Delta t = 0.5$. The time should be stored in an array named `time_array`.\n",
    "\n",
    "Then write a function `compute_velocity(dt, k, a)` that takes as arguments a time interval $\\Delta t$ as `dt`, an index `k`, and a list of accelerations `a`. The function uses the Trapezoidal rule to compute one $v(t_k)$ value and return this value. Experiment with different values of $\\Delta t$ and $k$."
   ]
  },
  {
   "cell_type": "code",
   "execution_count": null,
   "metadata": {
    "editable": true,
    "execution": {
     "iopub.execute_input": "2024-08-27T14:31:59.258237Z",
     "iopub.status.busy": "2024-08-27T14:31:59.257970Z",
     "iopub.status.idle": "2024-08-27T14:31:59.260400Z",
     "shell.execute_reply": "2024-08-27T14:31:59.259883Z"
    },
    "slideshow": {
     "slide_type": ""
    },
    "tags": []
   },
   "outputs": [],
   "source": [
    "# Uncomment and modify the following code. Do not change variable names for testing purposes.\n",
    "\n",
    "# def compute_velocity(dt, k, a):\n",
    "#     ...\n",
    "\n",
    "# time_array = ...\n",
    "# acc_array = ..."
   ]
  },
  {
   "cell_type": "code",
   "execution_count": null,
   "metadata": {
    "editable": true,
    "execution": {
     "iopub.execute_input": "2024-08-27T14:31:59.338537Z",
     "iopub.status.busy": "2024-08-27T14:31:59.338379Z",
     "iopub.status.idle": "2024-08-27T14:31:59.346590Z",
     "shell.execute_reply": "2024-08-27T14:31:59.346109Z"
    },
    "slideshow": {
     "slide_type": ""
    },
    "tags": [
     "pybryt"
    ]
   },
   "outputs": [],
   "source": [
    "with pybryt.check(pybryt_reference(3, 9)):\n",
    "    compute_velocity(1, 2, [5, 10, 12, 15, 16]), acc_array, time_array"
   ]
  },
  {
   "cell_type": "code",
   "execution_count": null,
   "metadata": {
    "editable": true,
    "execution": {
     "iopub.execute_input": "2024-08-27T14:31:59.348529Z",
     "iopub.status.busy": "2024-08-27T14:31:59.348262Z",
     "iopub.status.idle": "2024-08-27T14:31:59.352592Z",
     "shell.execute_reply": "2024-08-27T14:31:59.352052Z"
    },
    "slideshow": {
     "slide_type": ""
    },
    "tags": [
     "nbgrader"
    ]
   },
   "outputs": [],
   "source": [
    "import numbers\n",
    "import numpy as np\n",
    "\n",
    "assert compute_velocity(1, 3, [1, 1, 1, 1]) == 3\n",
    "\n",
    "assert isinstance(acc_array, np.ndarray)\n",
    "assert isinstance(time_array, np.ndarray)\n",
    "\n",
    "assert time_array.shape == acc_array.shape == (101,)\n",
    "\n",
    "assert np.isclose(time_array[0], 0)\n",
    "assert np.isclose(acc_array[0], -0.00506375204384)\n",
    "\n",
    "### BEGIN HIDDEN TESTS\n",
    "assert compute_velocity(1, 3, [0, 0, 0, 0]) == 0\n",
    "\n",
    "assert callable(compute_velocity)\n",
    "\n",
    "assert np.isclose(time_array[-1], 50)\n",
    "assert np.isclose(acc_array[-1], 0.479565276825)\n",
    "\n",
    "assert all([isinstance(i, numbers.Real) for i in time_array])\n",
    "assert all([isinstance(i, numbers.Real) for i in acc_array])\n",
    "### END HIDDEN TESTS"
   ]
  },
  {
   "cell_type": "markdown",
   "metadata": {
    "editable": true,
    "slideshow": {
     "slide_type": ""
    },
    "tags": []
   },
   "source": [
    "## File writing\n",
    "\n",
    "Writing a file in Python is simple. First, we open the file in writing mode:\n",
    "```python\n",
    "with open(filename, \"w\") as fout:\n",
    "```\n",
    "After that, we just collect the text we want to write in one or more strings, and, for each string, use a statement along the lines of\n",
    "\n",
    "```python\n",
    "fout.write(string)\n",
    "```"
   ]
  },
  {
   "cell_type": "markdown",
   "metadata": {
    "editable": true,
    "slideshow": {
     "slide_type": ""
    },
    "tags": []
   },
   "source": [
    "The write function does not add a newline character so you may have to do that explicitly:\n",
    "\n",
    "```python\n",
    "fout.write(string + \"\\n\")\n",
    "```"
   ]
  },
  {
   "cell_type": "markdown",
   "metadata": {
    "editable": true,
    "slideshow": {
     "slide_type": ""
    },
    "tags": []
   },
   "source": [
    "That’s it! Compose the strings and write! Let's do an example. Write a nested list (table) to a file:"
   ]
  },
  {
   "cell_type": "code",
   "execution_count": null,
   "metadata": {
    "editable": true,
    "execution": {
     "iopub.execute_input": "2024-08-27T14:31:59.354504Z",
     "iopub.status.busy": "2024-08-27T14:31:59.354350Z",
     "iopub.status.idle": "2024-08-27T14:31:59.357971Z",
     "shell.execute_reply": "2024-08-27T14:31:59.357487Z"
    },
    "slideshow": {
     "slide_type": ""
    },
    "tags": []
   },
   "outputs": [],
   "source": [
    "# Let's define some table of data\n",
    "data = [[0.75, 0.29619813, -0.29619813, -0.75],\n",
    "        [0.29619813, 0.11697778, -0.11697778, -0.29619813],\n",
    "        [-0.29619813, -0.11697778, 0.11697778, 0.29619813],\n",
    "        [-0.75, -0.29619813, 0.29619813, 0.75]]\n",
    "\n",
    "# Open the file for writing. Notice the \"w\" indicates we are writing!\n",
    "with open(\"tmp_table.dat\", \"w\") as outfile:\n",
    "    for row in data:\n",
    "        for column in row:\n",
    "            outfile.write(\"%14.8f\" % column)\n",
    "        outfile.write(\"\\n\")   # ensure newline"
   ]
  }
 ],
 "metadata": {
  "celltoolbar": "Tags",
  "kernelspec": {
   "display_name": "Python 3 (ipykernel)",
   "language": "python",
   "name": "python3"
  },
  "language_info": {
   "codemirror_mode": {
    "name": "ipython",
    "version": 3
   },
   "file_extension": ".py",
   "mimetype": "text/x-python",
   "name": "python",
   "nbconvert_exporter": "python",
   "pygments_lexer": "ipython3",
   "version": "3.11.9"
  }
 },
 "nbformat": 4,
 "nbformat_minor": 4
}
